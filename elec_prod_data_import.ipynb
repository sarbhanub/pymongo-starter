{
 "cells": [
  {
   "cell_type": "code",
   "execution_count": 1,
   "id": "a219e44a",
   "metadata": {},
   "outputs": [],
   "source": [
    "import pandas as pd\n",
    "import numpy as np\n",
    "from matplotlib import pyplot as plt\n",
    "import seaborn as sns\n",
    "import warnings\n",
    "%matplotlib inline\n",
    "warnings.filterwarnings(\"ignore\")"
   ]
  },
  {
   "cell_type": "markdown",
   "id": "c8cf3951",
   "metadata": {},
   "source": [
    "link: 'https://data.bs.ch/explore/dataset/100047/'"
   ]
  },
  {
   "cell_type": "markdown",
   "id": "2dc2f969",
   "metadata": {},
   "source": [
    "### Database connections"
   ]
  },
  {
   "cell_type": "code",
   "execution_count": 3,
   "id": "c2a455c2",
   "metadata": {},
   "outputs": [],
   "source": [
    "from pymongo import MongoClient\n",
    "client = MongoClient()"
   ]
  },
  {
   "cell_type": "code",
   "execution_count": 4,
   "id": "3968b2ba",
   "metadata": {},
   "outputs": [],
   "source": [
    "client = MongoClient('localhost', 27017)"
   ]
  },
  {
   "cell_type": "code",
   "execution_count": 5,
   "id": "c9ba167e",
   "metadata": {},
   "outputs": [],
   "source": [
    "csdb = client.csdb\n",
    "cscol = csdb.cscol"
   ]
  },
  {
   "cell_type": "markdown",
   "id": "438717b3",
   "metadata": {},
   "source": [
    "### Data Imports"
   ]
  },
  {
   "cell_type": "code",
   "execution_count": 6,
   "id": "b33bca19",
   "metadata": {},
   "outputs": [
    {
     "data": {
      "text/plain": [
       "<pymongo.results.InsertManyResult at 0x1afc3e6dca0>"
      ]
     },
     "execution_count": 6,
     "metadata": {},
     "output_type": "execute_result"
    }
   ],
   "source": [
    "import json\n",
    "import requests\n",
    "\n",
    "url = \"https://data.bs.ch/api/explore/v2.1/catalog/datasets/100047/exports/json?lang=en&timezone=Europe%2FZurich\"\n",
    "resp = requests.get(url=url)\n",
    "data = resp.json()\n",
    "\n",
    "cscol.insert_many(data)"
   ]
  },
  {
   "cell_type": "code",
   "execution_count": 21,
   "id": "b1d3ddfc",
   "metadata": {},
   "outputs": [],
   "source": [
    "df = pd.DataFrame(list(cscol.find()))"
   ]
  },
  {
   "cell_type": "code",
   "execution_count": 22,
   "id": "24fb36c5",
   "metadata": {},
   "outputs": [
    {
     "data": {
      "text/plain": [
       "(1297, 15)"
      ]
     },
     "execution_count": 22,
     "metadata": {},
     "output_type": "execute_result"
    }
   ],
   "source": [
    "df.shape"
   ]
  },
  {
   "cell_type": "code",
   "execution_count": 23,
   "id": "c952d708",
   "metadata": {},
   "outputs": [
    {
     "data": {
      "text/html": [
       "<div>\n",
       "<style scoped>\n",
       "    .dataframe tbody tr th:only-of-type {\n",
       "        vertical-align: middle;\n",
       "    }\n",
       "\n",
       "    .dataframe tbody tr th {\n",
       "        vertical-align: top;\n",
       "    }\n",
       "\n",
       "    .dataframe thead th {\n",
       "        text-align: right;\n",
       "    }\n",
       "</style>\n",
       "<table border=\"1\" class=\"dataframe\">\n",
       "  <thead>\n",
       "    <tr style=\"text-align: right;\">\n",
       "      <th></th>\n",
       "      <th>_id</th>\n",
       "      <th>starttime</th>\n",
       "      <th>stoptime</th>\n",
       "      <th>duration</th>\n",
       "      <th>watthour</th>\n",
       "      <th>kilowatthour</th>\n",
       "      <th>station_capacity</th>\n",
       "      <th>connectorid</th>\n",
       "      <th>station_location_coordinates_lat</th>\n",
       "      <th>station_location_coordinates_lng</th>\n",
       "      <th>station_connectortype</th>\n",
       "      <th>station_location</th>\n",
       "      <th>starttimetext</th>\n",
       "      <th>stoptimetext</th>\n",
       "      <th>time_measured</th>\n",
       "    </tr>\n",
       "  </thead>\n",
       "  <tbody>\n",
       "    <tr>\n",
       "      <th>0</th>\n",
       "      <td>6410a79f6081ff227124d9e8</td>\n",
       "      <td>2021-08-20T10:58:06+02:00</td>\n",
       "      <td>2021-08-20T10:59:32+02:00</td>\n",
       "      <td>2</td>\n",
       "      <td>0</td>\n",
       "      <td>0.00</td>\n",
       "      <td>22</td>\n",
       "      <td>1</td>\n",
       "      <td>47.54177</td>\n",
       "      <td>7.588089</td>\n",
       "      <td>2</td>\n",
       "      <td>{'lon': 7.5880887, 'lat': 47.54177}</td>\n",
       "      <td>2021-08-20T11:58:06+03:00</td>\n",
       "      <td>2021-08-20T11:59:32+03:00</td>\n",
       "      <td>196.0</td>\n",
       "    </tr>\n",
       "    <tr>\n",
       "      <th>1</th>\n",
       "      <td>6410a79f6081ff227124d9e9</td>\n",
       "      <td>2021-08-20T11:02:20+02:00</td>\n",
       "      <td>2021-08-20T11:02:25+02:00</td>\n",
       "      <td>1</td>\n",
       "      <td>0</td>\n",
       "      <td>0.00</td>\n",
       "      <td>22</td>\n",
       "      <td>1</td>\n",
       "      <td>47.54177</td>\n",
       "      <td>7.588089</td>\n",
       "      <td>2</td>\n",
       "      <td>{'lon': 7.5880887, 'lat': 47.54177}</td>\n",
       "      <td>2021-08-20T12:02:20+03:00</td>\n",
       "      <td>2021-08-20T12:02:25+03:00</td>\n",
       "      <td>196.0</td>\n",
       "    </tr>\n",
       "    <tr>\n",
       "      <th>2</th>\n",
       "      <td>6410a79f6081ff227124d9ea</td>\n",
       "      <td>2021-08-20T11:08:26+02:00</td>\n",
       "      <td>2021-08-20T11:08:30+02:00</td>\n",
       "      <td>1</td>\n",
       "      <td>0</td>\n",
       "      <td>0.00</td>\n",
       "      <td>22</td>\n",
       "      <td>2</td>\n",
       "      <td>47.54177</td>\n",
       "      <td>7.588089</td>\n",
       "      <td>2</td>\n",
       "      <td>{'lon': 7.5880887, 'lat': 47.54177}</td>\n",
       "      <td>2021-08-20T12:08:26+03:00</td>\n",
       "      <td>2021-08-20T12:08:30+03:00</td>\n",
       "      <td>196.0</td>\n",
       "    </tr>\n",
       "    <tr>\n",
       "      <th>3</th>\n",
       "      <td>6410a79f6081ff227124d9eb</td>\n",
       "      <td>2021-08-28T18:27:25+02:00</td>\n",
       "      <td>2021-08-28T22:07:27+02:00</td>\n",
       "      <td>221</td>\n",
       "      <td>40320</td>\n",
       "      <td>40.32</td>\n",
       "      <td>22</td>\n",
       "      <td>1</td>\n",
       "      <td>47.54177</td>\n",
       "      <td>7.588089</td>\n",
       "      <td>2</td>\n",
       "      <td>{'lon': 7.5880887, 'lat': 47.54177}</td>\n",
       "      <td>2021-08-28T19:27:25+03:00</td>\n",
       "      <td>2021-08-28T23:07:27+03:00</td>\n",
       "      <td>187.0</td>\n",
       "    </tr>\n",
       "    <tr>\n",
       "      <th>4</th>\n",
       "      <td>6410a79f6081ff227124d9ec</td>\n",
       "      <td>2021-09-02T12:43:03+02:00</td>\n",
       "      <td>2021-09-02T14:55:05+02:00</td>\n",
       "      <td>133</td>\n",
       "      <td>24600</td>\n",
       "      <td>24.60</td>\n",
       "      <td>22</td>\n",
       "      <td>1</td>\n",
       "      <td>47.54177</td>\n",
       "      <td>7.588089</td>\n",
       "      <td>2</td>\n",
       "      <td>{'lon': 7.5880887, 'lat': 47.54177}</td>\n",
       "      <td>2021-09-02T13:43:03+03:00</td>\n",
       "      <td>2021-09-02T15:55:05+03:00</td>\n",
       "      <td>183.0</td>\n",
       "    </tr>\n",
       "  </tbody>\n",
       "</table>\n",
       "</div>"
      ],
      "text/plain": [
       "                        _id                  starttime  \\\n",
       "0  6410a79f6081ff227124d9e8  2021-08-20T10:58:06+02:00   \n",
       "1  6410a79f6081ff227124d9e9  2021-08-20T11:02:20+02:00   \n",
       "2  6410a79f6081ff227124d9ea  2021-08-20T11:08:26+02:00   \n",
       "3  6410a79f6081ff227124d9eb  2021-08-28T18:27:25+02:00   \n",
       "4  6410a79f6081ff227124d9ec  2021-09-02T12:43:03+02:00   \n",
       "\n",
       "                    stoptime  duration  watthour  kilowatthour  \\\n",
       "0  2021-08-20T10:59:32+02:00         2         0          0.00   \n",
       "1  2021-08-20T11:02:25+02:00         1         0          0.00   \n",
       "2  2021-08-20T11:08:30+02:00         1         0          0.00   \n",
       "3  2021-08-28T22:07:27+02:00       221     40320         40.32   \n",
       "4  2021-09-02T14:55:05+02:00       133     24600         24.60   \n",
       "\n",
       "   station_capacity  connectorid  station_location_coordinates_lat  \\\n",
       "0                22            1                          47.54177   \n",
       "1                22            1                          47.54177   \n",
       "2                22            2                          47.54177   \n",
       "3                22            1                          47.54177   \n",
       "4                22            1                          47.54177   \n",
       "\n",
       "   station_location_coordinates_lng  station_connectortype  \\\n",
       "0                          7.588089                      2   \n",
       "1                          7.588089                      2   \n",
       "2                          7.588089                      2   \n",
       "3                          7.588089                      2   \n",
       "4                          7.588089                      2   \n",
       "\n",
       "                      station_location              starttimetext  \\\n",
       "0  {'lon': 7.5880887, 'lat': 47.54177}  2021-08-20T11:58:06+03:00   \n",
       "1  {'lon': 7.5880887, 'lat': 47.54177}  2021-08-20T12:02:20+03:00   \n",
       "2  {'lon': 7.5880887, 'lat': 47.54177}  2021-08-20T12:08:26+03:00   \n",
       "3  {'lon': 7.5880887, 'lat': 47.54177}  2021-08-28T19:27:25+03:00   \n",
       "4  {'lon': 7.5880887, 'lat': 47.54177}  2021-09-02T13:43:03+03:00   \n",
       "\n",
       "                stoptimetext  time_measured  \n",
       "0  2021-08-20T11:59:32+03:00          196.0  \n",
       "1  2021-08-20T12:02:25+03:00          196.0  \n",
       "2  2021-08-20T12:08:30+03:00          196.0  \n",
       "3  2021-08-28T23:07:27+03:00          187.0  \n",
       "4  2021-09-02T15:55:05+03:00          183.0  "
      ]
     },
     "execution_count": 23,
     "metadata": {},
     "output_type": "execute_result"
    }
   ],
   "source": [
    "df.head()"
   ]
  },
  {
   "cell_type": "code",
   "execution_count": 24,
   "id": "ec0640ae",
   "metadata": {},
   "outputs": [
    {
     "data": {
      "text/plain": [
       "Index(['_id', 'starttime', 'stoptime', 'duration', 'watthour', 'kilowatthour',\n",
       "       'station_capacity', 'connectorid', 'station_location_coordinates_lat',\n",
       "       'station_location_coordinates_lng', 'station_connectortype',\n",
       "       'station_location', 'starttimetext', 'stoptimetext', 'time_measured'],\n",
       "      dtype='object')"
      ]
     },
     "execution_count": 24,
     "metadata": {},
     "output_type": "execute_result"
    }
   ],
   "source": [
    "df.columns"
   ]
  },
  {
   "cell_type": "code",
   "execution_count": 26,
   "id": "d4ebd518",
   "metadata": {},
   "outputs": [
    {
     "name": "stdout",
     "output_type": "stream",
     "text": [
      "<class 'pandas.core.frame.DataFrame'>\n",
      "RangeIndex: 1297 entries, 0 to 1296\n",
      "Data columns (total 15 columns):\n",
      " #   Column                            Non-Null Count  Dtype  \n",
      "---  ------                            --------------  -----  \n",
      " 0   _id                               1297 non-null   object \n",
      " 1   starttime                         1297 non-null   object \n",
      " 2   stoptime                          1295 non-null   object \n",
      " 3   duration                          1297 non-null   int64  \n",
      " 4   watthour                          1297 non-null   int64  \n",
      " 5   kilowatthour                      1297 non-null   float64\n",
      " 6   station_capacity                  1297 non-null   int64  \n",
      " 7   connectorid                       1297 non-null   int64  \n",
      " 8   station_location_coordinates_lat  1297 non-null   float64\n",
      " 9   station_location_coordinates_lng  1297 non-null   float64\n",
      " 10  station_connectortype             1297 non-null   int64  \n",
      " 11  station_location                  1297 non-null   object \n",
      " 12  starttimetext                     1297 non-null   object \n",
      " 13  stoptimetext                      1295 non-null   object \n",
      " 14  time_measured                     1295 non-null   float64\n",
      "dtypes: float64(4), int64(5), object(6)\n",
      "memory usage: 152.1+ KB\n"
     ]
    }
   ],
   "source": [
    "df.info()"
   ]
  },
  {
   "cell_type": "code",
   "execution_count": null,
   "id": "9c1b1ab7",
   "metadata": {},
   "outputs": [],
   "source": []
  }
 ],
 "metadata": {
  "kernelspec": {
   "display_name": "Python 3 (ipykernel)",
   "language": "python",
   "name": "python3"
  },
  "language_info": {
   "codemirror_mode": {
    "name": "ipython",
    "version": 3
   },
   "file_extension": ".py",
   "mimetype": "text/x-python",
   "name": "python",
   "nbconvert_exporter": "python",
   "pygments_lexer": "ipython3",
   "version": "3.10.9"
  }
 },
 "nbformat": 4,
 "nbformat_minor": 5
}
